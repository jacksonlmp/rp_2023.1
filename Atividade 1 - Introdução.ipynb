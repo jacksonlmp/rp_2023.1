{
 "cells": [
  {
   "cell_type": "markdown",
   "metadata": {},
   "source": [
    "### 1. (10 pontos) Faça uma lista das aplicações de AM que estão presentes na sua rotina."
   ]
  },
  {
   "cell_type": "markdown",
   "metadata": {},
   "source": [
    "- Recomendação de produtos\n",
    "    - Sites de vendas ou streaming utilizam AM para recomendar produtos com base no histórico do usuário.\n",
    "- Classificação de noticias\n",
    "    - De acordo com a preferência do usuário o AM classifica sites de noticia visando o gosto dele.\n",
    "- Classificação/Filtro de Spam\n",
    "    - AM verifica e-mails recebidos pelo usuário e se eles são legítimos .\n",
    "- Previsão do tempo\n",
    "    - AM é usada para melhorar a precisão das previsões do tempo"
   ]
  },
  {
   "cell_type": "markdown",
   "metadata": {},
   "source": []
  },
  {
   "cell_type": "markdown",
   "metadata": {},
   "source": [
    "### 2. (10 pontos) Pesquise em canais de notícias sobre aplicações de Inteligência Artificial. Tente identificar se esta aplicação utiliza ou não Aprendizagem de Máquina."
   ]
  },
  {
   "cell_type": "markdown",
   "metadata": {},
   "source": [
    "[Noticia referência](https://olhardigital.com.br/2023/04/24/internet-e-redes-sociais/inteligencia-artificial-5-aplicacoes-da-ia-que-voce-nao-imaginava/)\n",
    "\n",
    "Aplicações:\n",
    "\n",
    "- ****Prever crises de fome****\n",
    "A coleta e análise de dados, como dados meteorológicos, safras, padrões de consumo alimentar, preços dos alimentos, entre outros, podem ser alimentados em algoritmos de AM para identificar tendências e padrões que ajudem a prever crises de fome.\n",
    "- ****Criar robôs para atender clientes\n",
    "A**** criação de robôs para atender clientes muitas vezes envolve o uso de AM, especialmente quando se trata de chatbots e assistentes virtuais. O AM faz com que esses sistemas aprendam com as interações com os clientes, melhorando suas capacidades de resposta e atendimento ao longo do tempo.\n",
    "- ****Auxiliar na contratação de possíveis funcionários\n",
    "F****requentemente o algoritmo de AM é usado para auxiliar na seleção de candidatos durante o processo de contratação. Estes algoritmos podem ser usados para classificar currículos, analisar resultados de testes e avaliações, identificar os candidatos mais adequados com base em critérios predefinidos, e até mesmo conduzir entrevistas automatizadas por meio de chatbots se necessário."
   ]
  },
  {
   "cell_type": "markdown",
   "metadata": {},
   "source": []
  },
  {
   "cell_type": "markdown",
   "metadata": {},
   "source": [
    "#### 3. (10 pontos) Selecione duas aplicações de AM. Quais atributos são utilizados por cada uma das aplicações? Qual o tipo de problema que a aplicação resolve, classificação, regressão ou agrupamento?"
   ]
  },
  {
   "cell_type": "markdown",
   "metadata": {},
   "source": [
    "**Previsão do tempo**\n",
    "\n",
    "**Atributos utilizados:** Faz uso de uma variedade de atributos que podem incluir temperatura atual, pressão atmosférica, umidade relativa, velocidade e direção do vento, histórico de padrões climáticos, dados de satélite e radar, entre outros. Esses atributos são coletados em várias localizações geográficas e altitudes.\n",
    "**Tipo de problema:** Geralmente é um problema de regressão. Com objetivo de prever valores contínuos, como temperatura máxima e mínima, precipitação, velocidade do vento, etc., em um período futuro. Estes modelos de previsão do tempo usam técnicas de regressão para estimar esses valores.\n",
    "\n",
    "**Recomendação de produtos**\n",
    "\n",
    "**Atributos utilizados:** Utiliza uma série de atributos relacionados aos produtos e aos usuários. Os atributos de produtos podem incluir descrições, categorias, preço, avaliações e popularidade. Os atributos do usuário podem incluir histórico de compras, preferências, avaliações e comportamento de navegação.\n",
    "**Tipo de problema:** Geralmente é um problema de filtragem colaborativa e pode ser tratado como um problema de classificação. A IA tenta prever se um usuário vai gostar ou não de um determinado produto, com base em seus atributos e nas interações do usuário com produtos semelhantes. Também pode ser uma combinação de técnicas, incluindo classificação e agrupamento, para fornecer recomendações personalizadas."
   ]
  },
  {
   "cell_type": "markdown",
   "metadata": {},
   "source": [
    "#### 4. (15 pontos) Em nosso país é utilizada a verificação de impressão digital para autenticar os eleitores. Este é um exemplo de uma aplicação da tarefa de Classificação. Cite 3 outros exemplos de aplicações de Classificação e explique a entrada (atributos) e a saída (classe) em cada caso, veja o exemplo abaixo.\n",
    "#### Exemplo:\\n • Aplicação: verificação de impressão digital. \\n• Entrada: imagem da impressão digital. Desta imagem são extraídos alguns pontos de\n",
    "interesse como cruzamento de linhas e ilhas.\n",
    "• Saída: a classe do problema só tem duas opções VERDADEIRA, quando a digital é\n",
    "equivalente àquela registrada para a pessoa, e FALSA, quando a digital é de outra pessoa."
   ]
  },
  {
   "cell_type": "markdown",
   "metadata": {},
   "source": []
  }
 ],
 "metadata": {
  "language_info": {
   "name": "python"
  }
 },
 "nbformat": 4,
 "nbformat_minor": 2
}

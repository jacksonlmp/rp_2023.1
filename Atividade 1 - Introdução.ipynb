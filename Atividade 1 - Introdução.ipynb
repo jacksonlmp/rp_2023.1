{
 "cells": [
  {
   "cell_type": "markdown",
   "metadata": {},
   "source": [
    "### 1. (10 pontos) Faça uma lista das aplicações de AM que estão presentes na sua rotina."
   ]
  },
  {
   "cell_type": "markdown",
   "metadata": {},
   "source": [
    "- Recomendação de produtos\n",
    "    - Sites de vendas ou streaming utilizam AM para recomendar produtos com base no histórico do usuário.\n",
    "- Classificação de noticias\n",
    "    - De acordo com a preferência do usuário o AM classifica sites de noticia visando o gosto dele.\n",
    "- Classificação/Filtro de Spam\n",
    "    - AM verifica e-mails recebidos pelo usuário e se eles são legítimos .\n",
    "- Previsão do tempo\n",
    "    - AM é usada para melhorar a precisão das previsões do tempo"
   ]
  },
  {
   "cell_type": "markdown",
   "metadata": {},
   "source": []
  },
  {
   "cell_type": "markdown",
   "metadata": {},
   "source": [
    "### 2. (10 pontos) Pesquise em canais de notícias sobre aplicações de Inteligência Artificial. Tente identificar se esta aplicação utiliza ou não Aprendizagem de Máquina."
   ]
  },
  {
   "cell_type": "markdown",
   "metadata": {},
   "source": [
    "[Noticia referência](https://olhardigital.com.br/2023/04/24/internet-e-redes-sociais/inteligencia-artificial-5-aplicacoes-da-ia-que-voce-nao-imaginava/)\n",
    "\n",
    "Aplicações:\n",
    "\n",
    "- ****Prever crises de fome****\n",
    "A coleta e análise de dados, como dados meteorológicos, safras, padrões de consumo alimentar, preços dos alimentos, entre outros, podem ser alimentados em algoritmos de AM para identificar tendências e padrões que ajudem a prever crises de fome.\n",
    "- ****Criar robôs para atender clientes\n",
    "A**** criação de robôs para atender clientes muitas vezes envolve o uso de AM, especialmente quando se trata de chatbots e assistentes virtuais. O AM faz com que esses sistemas aprendam com as interações com os clientes, melhorando suas capacidades de resposta e atendimento ao longo do tempo.\n",
    "- ****Auxiliar na contratação de possíveis funcionários\n",
    "F****requentemente o algoritmo de AM é usado para auxiliar na seleção de candidatos durante o processo de contratação. Estes algoritmos podem ser usados para classificar currículos, analisar resultados de testes e avaliações, identificar os candidatos mais adequados com base em critérios predefinidos, e até mesmo conduzir entrevistas automatizadas por meio de chatbots se necessário."
   ]
  }
 ],
 "metadata": {
  "language_info": {
   "name": "python"
  }
 },
 "nbformat": 4,
 "nbformat_minor": 2
}

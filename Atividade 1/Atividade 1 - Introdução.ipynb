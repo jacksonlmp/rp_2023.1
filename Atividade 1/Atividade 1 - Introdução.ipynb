{
 "cells": [
  {
   "cell_type": "markdown",
   "metadata": {},
   "source": [
    "#### 1. (10 pontos) Faça uma lista das aplicações de AM que estão presentes na sua rotina."
   ]
  },
  {
   "cell_type": "markdown",
   "metadata": {},
   "source": [
    "- Recomendação de produtos\n",
    "    - Sites de vendas ou streaming utilizam AM para recomendar produtos com base no histórico do usuário.\n",
    "- Classificação de noticias\n",
    "    - De acordo com a preferência do usuário o AM classifica sites de noticia visando o gosto dele.\n",
    "- Classificação/Filtro de Spam\n",
    "    - AM verifica e-mails recebidos pelo usuário e se eles são legítimos .\n",
    "- Previsão do tempo\n",
    "    - AM é usada para melhorar a precisão das previsões do tempo"
   ]
  },
  {
   "cell_type": "markdown",
   "metadata": {},
   "source": []
  },
  {
   "cell_type": "markdown",
   "metadata": {},
   "source": [
    "#### 2. (10 pontos) Pesquise em canais de notícias sobre aplicações de Inteligência Artificial. Tente identificar se esta aplicação utiliza ou não Aprendizagem de Máquina."
   ]
  },
  {
   "cell_type": "markdown",
   "metadata": {},
   "source": [
    "[Noticia referência](https://olhardigital.com.br/2023/04/24/internet-e-redes-sociais/inteligencia-artificial-5-aplicacoes-da-ia-que-voce-nao-imaginava/)\n",
    "\n",
    "Aplicações:\n",
    "\n",
    "- **Prever crises de fome**\n",
    "A coleta e análise de dados, como dados meteorológicos, safras, padrões de consumo alimentar, preços dos alimentos, entre outros, podem ser alimentados em algoritmos de AM para identificar tendências e padrões que ajudem a prever crises de fome.\n",
    "- **Criar robôs para atender clientes** \n",
    "A criação de robôs para atender clientes muitas vezes envolve o uso de AM, especialmente quando se trata de chatbots e assistentes virtuais. O AM faz com que esses sistemas aprendam com as interações com os clientes, melhorando suas capacidades de resposta e atendimento ao longo do tempo.\n",
    "- **Auxiliar na contratação de possíveis funcionários**\n",
    "Frequentemente o algoritmo de AM é usado para auxiliar na seleção de candidatos durante o processo de contratação. Estes algoritmos podem ser usados para classificar currículos, analisar resultados de testes e avaliações, identificar os candidatos mais adequados com base em critérios predefinidos, e até mesmo conduzir entrevistas automatizadas por meio de chatbots se necessário."
   ]
  },
  {
   "cell_type": "markdown",
   "metadata": {},
   "source": []
  },
  {
   "cell_type": "markdown",
   "metadata": {},
   "source": [
    "#### 3. (10 pontos) Selecione duas aplicações de AM. Quais atributos são utilizados por cada uma das aplicações? Qual o tipo de problema que a aplicação resolve, classificação, regressão ou agrupamento?"
   ]
  },
  {
   "cell_type": "markdown",
   "metadata": {},
   "source": [
    "**Previsão do tempo**\n",
    "\n",
    "**Atributos utilizados:** Faz uso de uma variedade de atributos que podem incluir temperatura atual, pressão atmosférica, umidade relativa, velocidade e direção do vento, histórico de padrões climáticos, dados de satélite e radar, entre outros. Esses atributos são coletados em várias localizações geográficas e altitudes.\n",
    "**Tipo de problema:** Geralmente é um problema de regressão. Com objetivo de prever valores contínuos, como temperatura máxima e mínima, precipitação, velocidade do vento, etc., em um período futuro. Estes modelos de previsão do tempo usam técnicas de regressão para estimar esses valores.\n",
    "\n",
    "**Recomendação de produtos**\n",
    "\n",
    "**Atributos utilizados:** Utiliza uma série de atributos relacionados aos produtos e aos usuários. Os atributos de produtos podem incluir descrições, categorias, preço, avaliações e popularidade. Os atributos do usuário podem incluir histórico de compras, preferências, avaliações e comportamento de navegação.\n",
    "**Tipo de problema:** Geralmente é um problema de filtragem colaborativa e pode ser tratado como um problema de classificação. A IA tenta prever se um usuário vai gostar ou não de um determinado produto, com base em seus atributos e nas interações do usuário com produtos semelhantes. Também pode ser uma combinação de técnicas, incluindo classificação e agrupamento, para fornecer recomendações personalizadas."
   ]
  },
  {
   "cell_type": "markdown",
   "metadata": {},
   "source": []
  },
  {
   "cell_type": "markdown",
   "metadata": {},
   "source": [
    "#### 4. (15 pontos) Em nosso país é utilizada a verificação de impressão digital para autenticar os eleitores. Este é um exemplo de uma aplicação da tarefa de Classificação. Cite 3 outros exemplos de aplicações de Classificação e explique a entrada (atributos) e a saída (classe) em cada caso, veja o exemplo abaixo.\n",
    "#### Exemplo:\n",
    "#### • Aplicação: verificação de impressão digital.\n",
    "#### • Entrada: imagem da impressão digital. Desta imagem são extraídos alguns pontos de interesse como cruzamento de linhas e ilhas.\n",
    "#### • Saída: a classe do problema só tem duas opções VERDADEIRA, quando a digital é equivalente àquela registrada para a pessoa, e FALSA, quando a digital é de outra pessoa."
   ]
  },
  {
   "cell_type": "markdown",
   "metadata": {},
   "source": [
    "**Exemplo 1**\n",
    "\n",
    "- **Aplicação:** Detecção de spam de e-mail\n",
    "- **Entrada:** O conjunto de atributos pode incluir o conteúdo do e-mail, informações do remetente, informações de formatação, presença de links, anexos e outras características do e-mail.\n",
    "- **Saída:** A classe do problema só possui duas opções:\n",
    "    - \"SPAM\" quando o e-mail é considerado indesejado\n",
    "    - \"NÃO SPAM\" quando é considerado legítimo.\n",
    "\n",
    "**Exemplo 2**\n",
    "\n",
    "- **Aplicação:** Detecção de fraude em cartões de crédito\n",
    "- **Entrada:** Os atributos podem incluir informações relacionadas a transações de cartão de crédito, como valor da compra, localização, histórico de compras do titular do cartão e comportamento anterior.\n",
    "- **Saída:** A classe do problema só possui duas opções:\n",
    "    - \"NÃO FRAUDE\" para transações legítimas\n",
    "    - \"FRAUDE\" para transações suspeitas ou fraudulentas.\n",
    "\n",
    "**Exemplo 3**\n",
    "\n",
    "- **Aplicação:** Classificação de Documentos Jurídicos\n",
    "- **Entrada:** Documentos legais, como contratos, petições e decisões judiciais, são usados como entrada. Os atributos podem incluir o texto do documento, informações sobre partes envolvidas, datas, áreas legais relevantes e outras características.\n",
    "- **Saída:** A classe do problema pode ser a categoria legal à qual o documento pertence como:\n",
    "    - \"TRABALHISTA\"\n",
    "    - \"CIVIL\"\n",
    "    - \"CRIMINAL”\n",
    "- Isso ajuda na organização e classificação de documentos legais."
   ]
  },
  {
   "cell_type": "markdown",
   "metadata": {},
   "source": [
    "#### 5. (25 pontos) Utilize o conjunto de treino abaixo (Tabela 1, página 2) para definir um conjunto de regras que explique a classe do problema (Y). Utilize as regras que você definiu para classificar os elementos do conjunto de teste (Tabela 2, página 2). Quantos elementos do conjunto de teste você consegui classificar corretamente utilizando as regras? Atenção: não vale utilizar os exemplos de teste para construir as regras. Não importa se acerta muitas classes, o importante é utilizar as regras construídas."
   ]
  },
  {
   "attachments": {
    "image.png": {
     "image/png": "[encoded data removed]"
    }
   },
   "cell_type": "markdown",
   "metadata": {},
   "source": [
    "Regras com base no conjunto de treino:\n",
    "\n",
    "1. **Regra 1:** Se X1 ≤ 2 e X2 ≤ 2, então Y é B, se não, Y é A.\n",
    "2. **Regra 2:** Se X1 > 2 e X2 > 2, então Y é A, se não, Y é B.\n",
    "3. **Regra 3:** Se X1 > 8 e X2 ≥ 3, então Y é B, se não, Y é A.\n",
    "4. **Regra 4:** Se X1 > 10 e X2 ≤ 1, então Y é A, se não, Y é B.\n",
    "\n",
    "![image.png](attachment:image.png)\n",
    "\n",
    "Dos 11 elementos do conjunto de teste 9 deles são classificados corretamente utilizando as regras definidas."
   ]
  },
  {
   "cell_type": "markdown",
   "metadata": {},
   "source": []
  },
  {
   "cell_type": "markdown",
   "metadata": {},
   "source": [
    "#### 6. Utilize a base de dados Car, disponível no link abaixo, e construa um conjunto de regras que classifique corretamente o maior número possível de exemplos. Conte quantos exemplos você consegue acertar. Descreva as etapas que do seu trabalho para construir este conjunto de regras. Dicas: a base tem 7 colunas, a mais a direita representa a classe do problema; os valores possíveis para a classe do problema são 4, unacc, acc, good, v-good. Não tente acertar 100% dos exemplos, o objetivo desta atividade é implementar um conjunto de regras e avaliar o resultado da classificação.\n",
    "#### Endereço para os arquivos da base de dados:\n",
    "#### http://archive.ics.uci.edu/ml/machine-learning-databases/car/\n",
    "#### Base de dados: car.data.\n",
    "#### Informações sobre a base: car.names, car.c45-names."
   ]
  },
  {
   "cell_type": "code",
   "execution_count": 1,
   "metadata": {},
   "outputs": [
    {
     "name": "stdout",
     "output_type": "stream",
     "text": [
      "Acurácia: 0.9595375722543352\n",
      "Relatório de Classificação:\n",
      "              precision    recall  f1-score   support\n",
      "\n",
      "         acc       0.99      0.88      0.93        83\n",
      "        good       0.62      0.91      0.74        11\n",
      "       unacc       0.98      1.00      0.99       235\n",
      "       vgood       0.82      0.82      0.82        17\n",
      "\n",
      "    accuracy                           0.96       346\n",
      "   macro avg       0.85      0.90      0.87       346\n",
      "weighted avg       0.96      0.96      0.96       346\n",
      "\n"
     ]
    }
   ],
   "source": [
    "import pandas as pd\n",
    "from sklearn.model_selection import train_test_split\n",
    "from sklearn.tree import DecisionTreeClassifier\n",
    "from sklearn.metrics import accuracy_score, classification_report\n",
    "\n",
    "data = pd.read_csv(\"car.data\", names=[\"buying\", \"maint\", \"doors\", \"persons\", \"lug_boot\", \"safety\", \"class\"])\n",
    "data = pd.get_dummies(data, columns=[\"buying\", \"maint\", \"doors\", \"persons\", \"lug_boot\", \"safety\"])\n",
    "\n",
    "X = data.drop(\"class\", axis=1)\n",
    "y = data[\"class\"]\n",
    "\n",
    "X_train, X_test, y_train, y_test = train_test_split(X, y, test_size = 0.2, random_state = 42)\n",
    "\n",
    "# Árvore de decisão\n",
    "clf = DecisionTreeClassifier()\n",
    "clf.fit(X_train, y_train)\n",
    "\n",
    "# Avaliação do modelo\n",
    "y_pred = clf.predict(X_test)\n",
    "\n",
    "# Métricas de avaliação\n",
    "accuracy = accuracy_score(y_test, y_pred)\n",
    "classification_rep = classification_report(y_test, y_pred)\n",
    "\n",
    "print(f\"Acurácia: {accuracy}\")\n",
    "print(\"Relatório de Classificação:\")\n",
    "print(classification_rep)"
   ]
  }
 ],
 "metadata": {
  "kernelspec": {
   "display_name": "Python 3",
   "language": "python",
   "name": "python3"
  },
  "language_info": {
   "codemirror_mode": {
    "name": "ipython",
    "version": 3
   },
   "file_extension": ".py",
   "mimetype": "text/x-python",
   "name": "python",
   "nbconvert_exporter": "python",
   "pygments_lexer": "ipython3",
   "version": "3.11.4"
  }
 },
 "nbformat": 4,
 "nbformat_minor": 2
}
